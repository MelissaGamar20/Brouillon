{
 "cells": [
  {
   "cell_type": "code",
   "execution_count": 4,
   "id": "ecb4a814",
   "metadata": {},
   "outputs": [
    {
     "name": "stdout",
     "output_type": "stream",
     "text": [
      "java\n",
      "HTLM\n",
      "['SQL', 'R', 'SAS']\n",
      "8\n"
     ]
    }
   ],
   "source": [
    "#leslistes1\n",
    "my_list=[\"python\",\"java\",\"SQL\",\"R\",\"SAS\",\"C++\",\"php\",\"HTLM\"]\n",
    "print(my_list[1])\n",
    "print(my_list[-1])\n",
    "print(my_list[2:5])\n",
    "print(len(my_list))"
   ]
  },
  {
   "cell_type": "code",
   "execution_count": 12,
   "id": "e9c8294e",
   "metadata": {},
   "outputs": [
    {
     "name": "stdout",
     "output_type": "stream",
     "text": [
      "['python', 'java', 'SQL', 'R', 'SAS', 'C++', 'php', 'HTLM', 'Matlab']\n",
      "['python', 'Spark', 'java', 'SQL', 'R', 'SAS', 'C++', 'php', 'HTLM', 'Matlab']\n",
      "['python', 'Scala', 'java', 'SQL', 'R', 'SAS', 'C++', 'php', 'HTLM', 'Matlab']\n",
      "['python', 'Scala', 'SQL', 'R', 'SAS', 'C++', 'php', 'HTLM', 'Matlab']\n",
      "['Scala', 'SQL', 'R', 'SAS', 'C++', 'php', 'HTLM', 'Matlab']\n"
     ]
    }
   ],
   "source": [
    "#leslistes2\n",
    "my_list=[\"python\",\"java\",\"SQL\",\"R\",\"SAS\",\"C++\",\"php\",\"HTLM\"]\n",
    "\n",
    "my_list.append(\"Matlab\")\n",
    "print(my_list)\n",
    "\n",
    "my_list.insert(1,\"Spark\")\n",
    "print(my_list)\n",
    "\n",
    "my_list[1]=\"Scala\"\n",
    "print(my_list)\n",
    "\n",
    "my_list.remove(\"java\")\n",
    "print(my_list)\n",
    "\n",
    "del my_list[0]\n",
    "print(my_list)"
   ]
  },
  {
   "cell_type": "code",
   "execution_count": 4,
   "id": "d01375b8",
   "metadata": {},
   "outputs": [
    {
     "name": "stdout",
     "output_type": "stream",
     "text": [
      "knowledge\n",
      "tool\n",
      "year\n",
      "Data science\n",
      "python\n",
      "2020\n",
      "('knowledge', 'Data science')\n",
      "('tool', 'python')\n",
      "('year', 2020)\n",
      "3\n"
     ]
    }
   ],
   "source": [
    "#DICTIONARY\n",
    "my_dictionary={\"knowledge\":\"Data science\",\"tool\":\"python\",\"year\":2020}\n",
    "for key in my_dictionary.keys():\n",
    "    print(key)\n",
    "for value in my_dictionary.values():\n",
    "    print(value)\n",
    "for item in my_dictionary.items():\n",
    "    print(item)\n",
    "print(len(my_dictionary))"
   ]
  },
  {
   "cell_type": "code",
   "execution_count": 11,
   "id": "08b641f2",
   "metadata": {},
   "outputs": [
    {
     "name": "stdout",
     "output_type": "stream",
     "text": [
      "{'knowledge': 'Data science', 'tool': 'python', 'year': 2020, 'learn': True}\n",
      "{'knowledge': 'Data science', 'tool': 'python', 'year': 2022, 'learn': True}\n",
      "{'knowledge': 'Data science', 'year': 2022, 'learn': True}\n"
     ]
    }
   ],
   "source": [
    "#tirer un element du dictionaire\n",
    "my_dictionary={\"knowledge\":\"Data science\",\"tool\":\"python\",\"year\":2020}\n",
    "my_dictionary[\"tool\"]\n",
    "#ajouter un element au dictionaire\n",
    "my_dictionary[\"learn\"]= True\n",
    "print(my_dictionary)\n",
    "#modifier le contenu de la clef\n",
    "my_dictionary[\"year\"]= 2022\n",
    "print(my_dictionary)\n",
    "#supprimer un element\n",
    "my_dictionary.pop(\"tool\")\n",
    "print(my_dictionary)\n",
    "#supprime tout le dictionaire\n",
    "del my_dictionary"
   ]
  },
  {
   "cell_type": "code",
   "execution_count": 15,
   "id": "d9491b72",
   "metadata": {},
   "outputs": [
    {
     "name": "stdout",
     "output_type": "stream",
     "text": [
      "{'java', 'python', 'R'}\n",
      "{'java', 'scalla', 'python', 'R'}\n",
      "{'java', 'scalla', 'python'}\n"
     ]
    }
   ],
   "source": [
    "#set\n",
    "my_set={\"python\",\"java\",\"R\"}\n",
    "print(my_set)\n",
    "#ajouter un element\n",
    "my_set.add(\"scalla\")\n",
    "print(my_set)\n",
    "#supprimer un element\n",
    "my_set.remove(\"R\")\n",
    "print(my_set)"
   ]
  },
  {
   "cell_type": "code",
   "execution_count": 18,
   "id": "0332e1ac",
   "metadata": {},
   "outputs": [
    {
     "name": "stdout",
     "output_type": "stream",
     "text": [
      "java\n",
      "('a', 'b', 'c', 1, 2, 3)\n"
     ]
    }
   ],
   "source": [
    "my_tuple=(\"python\",\"java\",\"R\")\n",
    "print(my_tuple[1])\n",
    "tuple1=(\"a\",\"b\",\"c\")\n",
    "tuple2=(1,2,3)\n",
    "tuple3=tuple1 + tuple2\n",
    "print(tuple3)"
   ]
  },
  {
   "cell_type": "code",
   "execution_count": null,
   "id": "8776968c",
   "metadata": {},
   "outputs": [],
   "source": []
  },
  {
   "cell_type": "code",
   "execution_count": null,
   "id": "c889b351",
   "metadata": {},
   "outputs": [],
   "source": []
  }
 ],
 "metadata": {
  "kernelspec": {
   "display_name": "Python 3 (ipykernel)",
   "language": "python",
   "name": "python3"
  },
  "language_info": {
   "codemirror_mode": {
    "name": "ipython",
    "version": 3
   },
   "file_extension": ".py",
   "mimetype": "text/x-python",
   "name": "python",
   "nbconvert_exporter": "python",
   "pygments_lexer": "ipython3",
   "version": "3.9.12"
  }
 },
 "nbformat": 4,
 "nbformat_minor": 5
}

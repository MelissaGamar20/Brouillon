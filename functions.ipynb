{
 "cells": [
  {
   "cell_type": "code",
   "execution_count": 2,
   "id": "d54d9b2c",
   "metadata": {},
   "outputs": [
    {
     "name": "stdout",
     "output_type": "stream",
     "text": [
      "Hello this is my first function\n"
     ]
    }
   ],
   "source": [
    "def fuction():\n",
    "    print(\"Hello this is my first function\")\n",
    "fuction()  #la ca sers pas mais comme fle calcule des moyennes d'etudiants c'est utile "
   ]
  },
  {
   "cell_type": "code",
   "execution_count": 8,
   "id": "6c90bccf",
   "metadata": {},
   "outputs": [
    {
     "name": "stdout",
     "output_type": "stream",
     "text": [
      "I want to learnto code\n",
      "I want to learnto do all\n"
     ]
    }
   ],
   "source": [
    "def my_function(parameter):\n",
    "    print(\"I want to learn\"+ parameter)\n",
    "my_function(\"to code\")\n",
    "my_function(\"to do all\")"
   ]
  },
  {
   "cell_type": "code",
   "execution_count": 15,
   "id": "2fff4e74",
   "metadata": {},
   "outputs": [
    {
     "name": "stdout",
     "output_type": "stream",
     "text": [
      "4\n",
      "2\n"
     ]
    }
   ],
   "source": [
    "def length(liste):\n",
    "    s=0\n",
    "    for i in liste:\n",
    "        s+=1 #s=s+1\n",
    "    return(s) #difference avec print c'est que return on peut stocker et calculer mais print just il affiche\n",
    "a=[1,2,3,4]\n",
    "print(length(a))\n",
    "b=[1,2]\n",
    "print(length(b))"
   ]
  },
  {
   "cell_type": "code",
   "execution_count": 17,
   "id": "9a1bfc4d",
   "metadata": {},
   "outputs": [
    {
     "name": "stdout",
     "output_type": "stream",
     "text": [
      "4\n"
     ]
    }
   ],
   "source": [
    "def length(liste):\n",
    "    s=0\n",
    "    for i in liste:\n",
    "        s+=1 #s=s+1\n",
    "    print(s) #difference avec print c'est que return on peut stocker et calculer mais print just il affiche\n",
    "a=[1,2,3,4]\n",
    "b=length(a)"
   ]
  },
  {
   "cell_type": "code",
   "execution_count": 18,
   "id": "d96b3497",
   "metadata": {},
   "outputs": [
    {
     "name": "stdout",
     "output_type": "stream",
     "text": [
      "None\n"
     ]
    }
   ],
   "source": [
    "print(b) #preuve que print ne stock pas mais si ca avait ete avec return on aurait eu le resultat de 4"
   ]
  },
  {
   "cell_type": "code",
   "execution_count": 19,
   "id": "1aad504e",
   "metadata": {},
   "outputs": [
    {
     "name": "stdout",
     "output_type": "stream",
     "text": [
      "16\n",
      "21\n"
     ]
    }
   ],
   "source": [
    "def operation(x,y,z):\n",
    "    print((x+y)*z)\n",
    "operation(5,3,2)\n",
    "operation(5,2,3)"
   ]
  },
  {
   "cell_type": "code",
   "execution_count": 3,
   "id": "51fdc211",
   "metadata": {},
   "outputs": [
    {
     "name": "stdout",
     "output_type": "stream",
     "text": [
      "x:5\n",
      "y:3\n",
      "z:2\n",
      "16\n"
     ]
    }
   ],
   "source": [
    "def operation():\n",
    "    x=int(input(\"x:\"))\n",
    "    y=int(input(\"y:\"))\n",
    "    z=int(input(\"z:\"))\n",
    "    print((x+y)*z)\n",
    "operation()"
   ]
  },
  {
   "cell_type": "code",
   "execution_count": 4,
   "id": "8c871923",
   "metadata": {},
   "outputs": [
    {
     "data": {
      "text/plain": [
       "6"
      ]
     },
     "execution_count": 4,
     "metadata": {},
     "output_type": "execute_result"
    }
   ],
   "source": [
    "operation=lambda a,b,c:a+b+c\n",
    "operation(1,2,3) #utuliser pour une courte operation"
   ]
  },
  {
   "cell_type": "code",
   "execution_count": 6,
   "id": "38d98d04",
   "metadata": {},
   "outputs": [
    {
     "name": "stdout",
     "output_type": "stream",
     "text": [
      "6\n"
     ]
    }
   ],
   "source": [
    "def operation(a,b,c):\n",
    "    print(a+b+c)\n",
    "operation(1,2,3) # plus long"
   ]
  },
  {
   "cell_type": "code",
   "execution_count": 7,
   "id": "03f0a58a",
   "metadata": {},
   "outputs": [
    {
     "name": "stdout",
     "output_type": "stream",
     "text": [
      "2020\n"
     ]
    }
   ],
   "source": [
    "year=lambda ch:ch[0:4]\n",
    "ch=\"2020034736\"\n",
    "print(year(ch))"
   ]
  },
  {
   "cell_type": "code",
   "execution_count": 11,
   "id": "923acdf3",
   "metadata": {},
   "outputs": [
    {
     "data": {
      "text/plain": [
       "[4, 4, 4]"
      ]
     },
     "execution_count": 11,
     "metadata": {},
     "output_type": "execute_result"
    }
   ],
   "source": [
    "def myfuc(a,b):\n",
    "    return(a+b)\n",
    "\n",
    "result=list(map(myfuc,(1,2,3),(3,2,1)))\n",
    "result"
   ]
  },
  {
   "cell_type": "code",
   "execution_count": null,
   "id": "0f16a088",
   "metadata": {},
   "outputs": [],
   "source": []
  }
 ],
 "metadata": {
  "kernelspec": {
   "display_name": "Python 3 (ipykernel)",
   "language": "python",
   "name": "python3"
  },
  "language_info": {
   "codemirror_mode": {
    "name": "ipython",
    "version": 3
   },
   "file_extension": ".py",
   "mimetype": "text/x-python",
   "name": "python",
   "nbconvert_exporter": "python",
   "pygments_lexer": "ipython3",
   "version": "3.9.12"
  }
 },
 "nbformat": 4,
 "nbformat_minor": 5
}
